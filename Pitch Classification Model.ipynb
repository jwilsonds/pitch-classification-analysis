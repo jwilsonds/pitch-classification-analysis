{
 "cells": [
  {
   "cell_type": "code",
   "execution_count": 2,
   "metadata": {},
   "outputs": [],
   "source": [
    "def pitch_classification(mlbid, output):\n",
    "    #importing required libraries\n",
    "    import pandas as pd\n",
    "    import lightgbm as lgb\n",
    "    import numpy as np\n",
    "    from pybaseball import statcast_pitcher, playerid_lookup\n",
    "    from sklearn.metrics import precision_score, confusion_matrix, classification_report\n",
    "    from sklearn.model_selection import train_test_split\n",
    "    \n",
    "    #gathering pitch-by-pitch data for the pitcher\n",
    "    data = statcast_pitcher('2019-03-15','2019-11-30',mlbid)\n",
    "    \n",
    "    #removes all pitches that are intentional balls or pitchouts\n",
    "    data = data.loc[(data['description']!= 'intent_ball') & (data['pitch_type']!='PO')]\n",
    "    \n",
    "    #getting rid of any pitch types that aren't correctly classified\n",
    "    data = data.loc[data['pitch_type'].isnull() == False]\n",
    "    \n",
    "    new_data = data.loc[(data['release_pos_x'].isnull()==False) & \n",
    "                            (data['release_pos_z'].isnull()==False)]\n",
    "    \n",
    "    #getting all pitch types for the pitcher\n",
    "    pitches = new_data.pitch_type.unique().tolist()\n",
    "    \n",
    "    #this loop removes pitch types that aren't thrown more than 7.5% of the time to make classifying more accurate\n",
    "    for i in range(len(pitches)):\n",
    "        if (len(new_data[new_data['pitch_type']== pitches[i]])/len(new_data)) <= 0.075:\n",
    "            new_data = new_data[new_data['pitch_type']!= pitches[i]]\n",
    "        \n",
    "    #defining new pitch list if some pitch types were dropped in the loop above\n",
    "    pitches = new_data.pitch_type.unique().tolist()\n",
    "    \n",
    "    #converting pitche types from strings to integers\n",
    "    new_data['pitch_type'].replace(pitches, list(range(len(pitches))),inplace = True)\n",
    "    new_data['pitch_type'] = new_data['pitch_type'].apply(pd.to_numeric)\n",
    "    \n",
    "    #getting the necessary columns for the model\n",
    "    X1 = new_data[['release_pos_x', 'release_pos_z', 'strikes','balls']]\n",
    "\n",
    "    #singling out the variable we want to predict\n",
    "    Y1 = new_data['pitch_type']\n",
    "    \n",
    "    #splitting the data into training and testing sets\n",
    "    X_train,X_test,y_train,y_test=train_test_split(X1,Y1,test_size=0.3,random_state=0)\n",
    "    \n",
    "    d_train=lgb.Dataset(X_train, label=y_train)\n",
    "    \n",
    "    #setting up the parameters\n",
    "    params={}\n",
    "    params['num_leaves'] = 10\n",
    "    params['learning_rate']=0.03\n",
    "    params['boosting_type']='gbdt' #GradientBoostingDecisionTree\n",
    "    params['objective']='multiclass' #Multi-class target feature\n",
    "    params['metric']='multi_logloss' #metric for multi-class\n",
    "    params['max_depth']= 5\n",
    "    params['num_class']= len(pitches) #no.of unique values in the target class not inclusive of the end value\n",
    "    params['min_data_in_leaf'] = 10\n",
    "    params['class_weight'] = 'balanced'\n",
    "    \n",
    "    #training the model\n",
    "    clf=lgb.train(params,d_train,500)\n",
    "    \n",
    "    #prediction on the test dataset\n",
    "    y_pred_1=clf.predict(X_test)\n",
    "    \n",
    "    #argmax() method \n",
    "    y_pred_1 = [np.argmax(line) for line in y_pred_1]\n",
    "    \n",
    "    #using precision score for error metrics\n",
    "    score = precision_score(y_pred_1,y_test,average=None).mean()\n",
    "    \n",
    "    matrix = confusion_matrix(y_test, y_pred_1)\n",
    "    \n",
    "    report = classification_report(y_test, y_pred_1)\n",
    "    \n",
    "    if output == 'score':\n",
    "        return score\n",
    "    \n",
    "    elif output == 'matrix':\n",
    "        return matrix\n",
    "    \n",
    "    elif output == 'report':\n",
    "        return report\n",
    "    else:\n",
    "        return score"
   ]
  },
  {
   "cell_type": "code",
   "execution_count": 3,
   "metadata": {},
   "outputs": [],
   "source": [
    "from pybaseball import playerid_lookup"
   ]
  },
  {
   "cell_type": "code",
   "execution_count": 4,
   "metadata": {},
   "outputs": [
    {
     "name": "stdout",
     "output_type": "stream",
     "text": [
      "Gathering player lookup table. This may take a moment.\n"
     ]
    },
    {
     "data": {
      "text/html": [
       "<div>\n",
       "<style scoped>\n",
       "    .dataframe tbody tr th:only-of-type {\n",
       "        vertical-align: middle;\n",
       "    }\n",
       "\n",
       "    .dataframe tbody tr th {\n",
       "        vertical-align: top;\n",
       "    }\n",
       "\n",
       "    .dataframe thead th {\n",
       "        text-align: right;\n",
       "    }\n",
       "</style>\n",
       "<table border=\"1\" class=\"dataframe\">\n",
       "  <thead>\n",
       "    <tr style=\"text-align: right;\">\n",
       "      <th></th>\n",
       "      <th>name_last</th>\n",
       "      <th>name_first</th>\n",
       "      <th>key_mlbam</th>\n",
       "      <th>key_retro</th>\n",
       "      <th>key_bbref</th>\n",
       "      <th>key_fangraphs</th>\n",
       "      <th>mlb_played_first</th>\n",
       "      <th>mlb_played_last</th>\n",
       "    </tr>\n",
       "  </thead>\n",
       "  <tbody>\n",
       "    <tr>\n",
       "      <th>0</th>\n",
       "      <td>verlander</td>\n",
       "      <td>justin</td>\n",
       "      <td>434378</td>\n",
       "      <td>verlj001</td>\n",
       "      <td>verlaju01</td>\n",
       "      <td>8700</td>\n",
       "      <td>2005.0</td>\n",
       "      <td>2020.0</td>\n",
       "    </tr>\n",
       "  </tbody>\n",
       "</table>\n",
       "</div>"
      ],
      "text/plain": [
       "   name_last name_first  key_mlbam key_retro  key_bbref  key_fangraphs  \\\n",
       "0  verlander     justin     434378  verlj001  verlaju01           8700   \n",
       "\n",
       "   mlb_played_first  mlb_played_last  \n",
       "0            2005.0           2020.0  "
      ]
     },
     "execution_count": 4,
     "metadata": {},
     "output_type": "execute_result"
    }
   ],
   "source": [
    "playerid_lookup('verlander','justin')"
   ]
  },
  {
   "cell_type": "code",
   "execution_count": 5,
   "metadata": {},
   "outputs": [
    {
     "name": "stderr",
     "output_type": "stream",
     "text": [
      "/Users/jeremiahwilson/anaconda3/lib/python3.7/site-packages/lightgbm/__init__.py:48: UserWarning: Starting from version 2.2.1, the library file in distribution wheels for macOS is built by the Apple Clang (Xcode_8.3.3) compiler.\n",
      "This means that in case of installing LightGBM from PyPI via the ``pip install lightgbm`` command, you don't need to install the gcc compiler anymore.\n",
      "Instead of that, you need to install the OpenMP library, which is required for running LightGBM on the system with the Apple Clang compiler.\n",
      "You can install the OpenMP library by the following command: ``brew install libomp``.\n",
      "  \"You can install the OpenMP library by the following command: ``brew install libomp``.\", UserWarning)\n"
     ]
    },
    {
     "name": "stdout",
     "output_type": "stream",
     "text": [
      "Gathering Player Data\n"
     ]
    },
    {
     "data": {
      "text/plain": [
       "0.5382811821755901"
      ]
     },
     "execution_count": 5,
     "metadata": {},
     "output_type": "execute_result"
    }
   ],
   "source": [
    "pitch_classification(434378, 'score')"
   ]
  },
  {
   "cell_type": "code",
   "execution_count": 7,
   "metadata": {},
   "outputs": [
    {
     "name": "stdout",
     "output_type": "stream",
     "text": [
      "Gathering Player Data\n"
     ]
    },
    {
     "data": {
      "text/plain": [
       "0.5178694932553993"
      ]
     },
     "execution_count": 7,
     "metadata": {},
     "output_type": "execute_result"
    }
   ],
   "source": [
    "pitch_classification(622491, 'score')"
   ]
  },
  {
   "cell_type": "code",
   "execution_count": 14,
   "metadata": {},
   "outputs": [
    {
     "name": "stdout",
     "output_type": "stream",
     "text": [
      "Gathering player lookup table. This may take a moment.\n"
     ]
    },
    {
     "data": {
      "text/html": [
       "<div>\n",
       "<style scoped>\n",
       "    .dataframe tbody tr th:only-of-type {\n",
       "        vertical-align: middle;\n",
       "    }\n",
       "\n",
       "    .dataframe tbody tr th {\n",
       "        vertical-align: top;\n",
       "    }\n",
       "\n",
       "    .dataframe thead th {\n",
       "        text-align: right;\n",
       "    }\n",
       "</style>\n",
       "<table border=\"1\" class=\"dataframe\">\n",
       "  <thead>\n",
       "    <tr style=\"text-align: right;\">\n",
       "      <th></th>\n",
       "      <th>name_last</th>\n",
       "      <th>name_first</th>\n",
       "      <th>key_mlbam</th>\n",
       "      <th>key_retro</th>\n",
       "      <th>key_bbref</th>\n",
       "      <th>key_fangraphs</th>\n",
       "      <th>mlb_played_first</th>\n",
       "      <th>mlb_played_last</th>\n",
       "    </tr>\n",
       "  </thead>\n",
       "  <tbody>\n",
       "    <tr>\n",
       "      <th>0</th>\n",
       "      <td>scherzer</td>\n",
       "      <td>max</td>\n",
       "      <td>453286</td>\n",
       "      <td>schem001</td>\n",
       "      <td>scherma01</td>\n",
       "      <td>3137</td>\n",
       "      <td>2008.0</td>\n",
       "      <td>2020.0</td>\n",
       "    </tr>\n",
       "  </tbody>\n",
       "</table>\n",
       "</div>"
      ],
      "text/plain": [
       "  name_last name_first  key_mlbam key_retro  key_bbref  key_fangraphs  \\\n",
       "0  scherzer        max     453286  schem001  scherma01           3137   \n",
       "\n",
       "   mlb_played_first  mlb_played_last  \n",
       "0            2008.0           2020.0  "
      ]
     },
     "execution_count": 14,
     "metadata": {},
     "output_type": "execute_result"
    }
   ],
   "source": [
    "#the rest of the notebook is me calculating the precision scores for 16 players and adding the data to a df\n",
    "playerid_lookup('Scherzer', 'Max')"
   ]
  },
  {
   "cell_type": "code",
   "execution_count": 15,
   "metadata": {},
   "outputs": [
    {
     "name": "stdout",
     "output_type": "stream",
     "text": [
      "Gathering Player Data\n"
     ]
    }
   ],
   "source": [
    "ms_score = pitch_classification(453286, 'score')"
   ]
  },
  {
   "cell_type": "code",
   "execution_count": 16,
   "metadata": {},
   "outputs": [],
   "source": [
    "names = []\n",
    "prec_scores = []\n",
    "adj_scores = []"
   ]
  },
  {
   "cell_type": "code",
   "execution_count": 17,
   "metadata": {},
   "outputs": [],
   "source": [
    "names.append('Max Scherzer')\n",
    "prec_scores.append(ms_score)\n",
    "adj_scores.append(ms_score/0.25)"
   ]
  },
  {
   "cell_type": "code",
   "execution_count": 18,
   "metadata": {},
   "outputs": [
    {
     "name": "stdout",
     "output_type": "stream",
     "text": [
      "Gathering player lookup table. This may take a moment.\n"
     ]
    },
    {
     "data": {
      "text/html": [
       "<div>\n",
       "<style scoped>\n",
       "    .dataframe tbody tr th:only-of-type {\n",
       "        vertical-align: middle;\n",
       "    }\n",
       "\n",
       "    .dataframe tbody tr th {\n",
       "        vertical-align: top;\n",
       "    }\n",
       "\n",
       "    .dataframe thead th {\n",
       "        text-align: right;\n",
       "    }\n",
       "</style>\n",
       "<table border=\"1\" class=\"dataframe\">\n",
       "  <thead>\n",
       "    <tr style=\"text-align: right;\">\n",
       "      <th></th>\n",
       "      <th>name_last</th>\n",
       "      <th>name_first</th>\n",
       "      <th>key_mlbam</th>\n",
       "      <th>key_retro</th>\n",
       "      <th>key_bbref</th>\n",
       "      <th>key_fangraphs</th>\n",
       "      <th>mlb_played_first</th>\n",
       "      <th>mlb_played_last</th>\n",
       "    </tr>\n",
       "  </thead>\n",
       "  <tbody>\n",
       "    <tr>\n",
       "      <th>0</th>\n",
       "      <td>cole</td>\n",
       "      <td>gerrit</td>\n",
       "      <td>543037</td>\n",
       "      <td>coleg001</td>\n",
       "      <td>colege01</td>\n",
       "      <td>13125</td>\n",
       "      <td>2013.0</td>\n",
       "      <td>2020.0</td>\n",
       "    </tr>\n",
       "  </tbody>\n",
       "</table>\n",
       "</div>"
      ],
      "text/plain": [
       "  name_last name_first  key_mlbam key_retro key_bbref  key_fangraphs  \\\n",
       "0      cole     gerrit     543037  coleg001  colege01          13125   \n",
       "\n",
       "   mlb_played_first  mlb_played_last  \n",
       "0            2013.0           2020.0  "
      ]
     },
     "execution_count": 18,
     "metadata": {},
     "output_type": "execute_result"
    }
   ],
   "source": [
    "playerid_lookup('cole', 'gerrit')"
   ]
  },
  {
   "cell_type": "code",
   "execution_count": 19,
   "metadata": {},
   "outputs": [
    {
     "name": "stdout",
     "output_type": "stream",
     "text": [
      "Gathering Player Data\n"
     ]
    }
   ],
   "source": [
    "gc_score = pitch_classification(543037, 'score')"
   ]
  },
  {
   "cell_type": "code",
   "execution_count": 20,
   "metadata": {},
   "outputs": [],
   "source": [
    "names.append('Gerrit Cole')\n",
    "prec_scores.append(gc_score)\n",
    "adj_scores.append(gc_score/(1/3))"
   ]
  },
  {
   "cell_type": "code",
   "execution_count": 21,
   "metadata": {},
   "outputs": [
    {
     "name": "stdout",
     "output_type": "stream",
     "text": [
      "Gathering player lookup table. This may take a moment.\n"
     ]
    },
    {
     "data": {
      "text/html": [
       "<div>\n",
       "<style scoped>\n",
       "    .dataframe tbody tr th:only-of-type {\n",
       "        vertical-align: middle;\n",
       "    }\n",
       "\n",
       "    .dataframe tbody tr th {\n",
       "        vertical-align: top;\n",
       "    }\n",
       "\n",
       "    .dataframe thead th {\n",
       "        text-align: right;\n",
       "    }\n",
       "</style>\n",
       "<table border=\"1\" class=\"dataframe\">\n",
       "  <thead>\n",
       "    <tr style=\"text-align: right;\">\n",
       "      <th></th>\n",
       "      <th>name_last</th>\n",
       "      <th>name_first</th>\n",
       "      <th>key_mlbam</th>\n",
       "      <th>key_retro</th>\n",
       "      <th>key_bbref</th>\n",
       "      <th>key_fangraphs</th>\n",
       "      <th>mlb_played_first</th>\n",
       "      <th>mlb_played_last</th>\n",
       "    </tr>\n",
       "  </thead>\n",
       "  <tbody>\n",
       "    <tr>\n",
       "      <th>0</th>\n",
       "      <td>glasnow</td>\n",
       "      <td>tyler</td>\n",
       "      <td>607192</td>\n",
       "      <td>glast001</td>\n",
       "      <td>glasnty01</td>\n",
       "      <td>14374</td>\n",
       "      <td>2016.0</td>\n",
       "      <td>2020.0</td>\n",
       "    </tr>\n",
       "  </tbody>\n",
       "</table>\n",
       "</div>"
      ],
      "text/plain": [
       "  name_last name_first  key_mlbam key_retro  key_bbref  key_fangraphs  \\\n",
       "0   glasnow      tyler     607192  glast001  glasnty01          14374   \n",
       "\n",
       "   mlb_played_first  mlb_played_last  \n",
       "0            2016.0           2020.0  "
      ]
     },
     "execution_count": 21,
     "metadata": {},
     "output_type": "execute_result"
    }
   ],
   "source": [
    "playerid_lookup('glasnow','tyler')"
   ]
  },
  {
   "cell_type": "code",
   "execution_count": 22,
   "metadata": {},
   "outputs": [
    {
     "name": "stdout",
     "output_type": "stream",
     "text": [
      "Gathering Player Data\n"
     ]
    }
   ],
   "source": [
    "tg_score = pitch_classification(607192, 'score')"
   ]
  },
  {
   "cell_type": "code",
   "execution_count": 23,
   "metadata": {},
   "outputs": [],
   "source": [
    "names.append('Tyler Glasnow')\n",
    "prec_scores.append(tg_score)\n",
    "adj_scores.append(tg_score/0.5)"
   ]
  },
  {
   "cell_type": "code",
   "execution_count": 24,
   "metadata": {},
   "outputs": [
    {
     "name": "stdout",
     "output_type": "stream",
     "text": [
      "Gathering player lookup table. This may take a moment.\n"
     ]
    },
    {
     "data": {
      "text/html": [
       "<div>\n",
       "<style scoped>\n",
       "    .dataframe tbody tr th:only-of-type {\n",
       "        vertical-align: middle;\n",
       "    }\n",
       "\n",
       "    .dataframe tbody tr th {\n",
       "        vertical-align: top;\n",
       "    }\n",
       "\n",
       "    .dataframe thead th {\n",
       "        text-align: right;\n",
       "    }\n",
       "</style>\n",
       "<table border=\"1\" class=\"dataframe\">\n",
       "  <thead>\n",
       "    <tr style=\"text-align: right;\">\n",
       "      <th></th>\n",
       "      <th>name_last</th>\n",
       "      <th>name_first</th>\n",
       "      <th>key_mlbam</th>\n",
       "      <th>key_retro</th>\n",
       "      <th>key_bbref</th>\n",
       "      <th>key_fangraphs</th>\n",
       "      <th>mlb_played_first</th>\n",
       "      <th>mlb_played_last</th>\n",
       "    </tr>\n",
       "  </thead>\n",
       "  <tbody>\n",
       "    <tr>\n",
       "      <th>0</th>\n",
       "      <td>bumgarner</td>\n",
       "      <td>madison</td>\n",
       "      <td>518516</td>\n",
       "      <td>bumgm001</td>\n",
       "      <td>bumgama01</td>\n",
       "      <td>5524</td>\n",
       "      <td>2009.0</td>\n",
       "      <td>2020.0</td>\n",
       "    </tr>\n",
       "  </tbody>\n",
       "</table>\n",
       "</div>"
      ],
      "text/plain": [
       "   name_last name_first  key_mlbam key_retro  key_bbref  key_fangraphs  \\\n",
       "0  bumgarner    madison     518516  bumgm001  bumgama01           5524   \n",
       "\n",
       "   mlb_played_first  mlb_played_last  \n",
       "0            2009.0           2020.0  "
      ]
     },
     "execution_count": 24,
     "metadata": {},
     "output_type": "execute_result"
    }
   ],
   "source": [
    "playerid_lookup('bumgarner','madison')"
   ]
  },
  {
   "cell_type": "code",
   "execution_count": 25,
   "metadata": {},
   "outputs": [
    {
     "name": "stdout",
     "output_type": "stream",
     "text": [
      "Gathering Player Data\n"
     ]
    }
   ],
   "source": [
    "mb_score = pitch_classification(518516, 'score')"
   ]
  },
  {
   "cell_type": "code",
   "execution_count": 26,
   "metadata": {},
   "outputs": [],
   "source": [
    "names.append('Madison Bumgarner')\n",
    "prec_scores.append(mb_score)\n",
    "adj_scores.append(mb_score/(1/3))"
   ]
  },
  {
   "cell_type": "code",
   "execution_count": 27,
   "metadata": {},
   "outputs": [
    {
     "name": "stdout",
     "output_type": "stream",
     "text": [
      "Gathering player lookup table. This may take a moment.\n"
     ]
    },
    {
     "data": {
      "text/html": [
       "<div>\n",
       "<style scoped>\n",
       "    .dataframe tbody tr th:only-of-type {\n",
       "        vertical-align: middle;\n",
       "    }\n",
       "\n",
       "    .dataframe tbody tr th {\n",
       "        vertical-align: top;\n",
       "    }\n",
       "\n",
       "    .dataframe thead th {\n",
       "        text-align: right;\n",
       "    }\n",
       "</style>\n",
       "<table border=\"1\" class=\"dataframe\">\n",
       "  <thead>\n",
       "    <tr style=\"text-align: right;\">\n",
       "      <th></th>\n",
       "      <th>name_last</th>\n",
       "      <th>name_first</th>\n",
       "      <th>key_mlbam</th>\n",
       "      <th>key_retro</th>\n",
       "      <th>key_bbref</th>\n",
       "      <th>key_fangraphs</th>\n",
       "      <th>mlb_played_first</th>\n",
       "      <th>mlb_played_last</th>\n",
       "    </tr>\n",
       "  </thead>\n",
       "  <tbody>\n",
       "    <tr>\n",
       "      <th>0</th>\n",
       "      <td>paddack</td>\n",
       "      <td>chris</td>\n",
       "      <td>663978</td>\n",
       "      <td>paddc001</td>\n",
       "      <td>paddach01</td>\n",
       "      <td>20099</td>\n",
       "      <td>2019.0</td>\n",
       "      <td>2020.0</td>\n",
       "    </tr>\n",
       "  </tbody>\n",
       "</table>\n",
       "</div>"
      ],
      "text/plain": [
       "  name_last name_first  key_mlbam key_retro  key_bbref  key_fangraphs  \\\n",
       "0   paddack      chris     663978  paddc001  paddach01          20099   \n",
       "\n",
       "   mlb_played_first  mlb_played_last  \n",
       "0            2019.0           2020.0  "
      ]
     },
     "execution_count": 27,
     "metadata": {},
     "output_type": "execute_result"
    }
   ],
   "source": [
    "playerid_lookup('paddack','chris')"
   ]
  },
  {
   "cell_type": "code",
   "execution_count": 28,
   "metadata": {},
   "outputs": [
    {
     "name": "stdout",
     "output_type": "stream",
     "text": [
      "Gathering Player Data\n"
     ]
    }
   ],
   "source": [
    "cp_score = pitch_classification(663978, 'score')"
   ]
  },
  {
   "cell_type": "code",
   "execution_count": 29,
   "metadata": {},
   "outputs": [],
   "source": [
    "names.append('Chris Paddack')\n",
    "prec_scores.append(cp_score)\n",
    "adj_scores.append(cp_score/(1/3))"
   ]
  },
  {
   "cell_type": "code",
   "execution_count": 30,
   "metadata": {},
   "outputs": [
    {
     "name": "stdout",
     "output_type": "stream",
     "text": [
      "Gathering player lookup table. This may take a moment.\n"
     ]
    },
    {
     "data": {
      "text/html": [
       "<div>\n",
       "<style scoped>\n",
       "    .dataframe tbody tr th:only-of-type {\n",
       "        vertical-align: middle;\n",
       "    }\n",
       "\n",
       "    .dataframe tbody tr th {\n",
       "        vertical-align: top;\n",
       "    }\n",
       "\n",
       "    .dataframe thead th {\n",
       "        text-align: right;\n",
       "    }\n",
       "</style>\n",
       "<table border=\"1\" class=\"dataframe\">\n",
       "  <thead>\n",
       "    <tr style=\"text-align: right;\">\n",
       "      <th></th>\n",
       "      <th>name_last</th>\n",
       "      <th>name_first</th>\n",
       "      <th>key_mlbam</th>\n",
       "      <th>key_retro</th>\n",
       "      <th>key_bbref</th>\n",
       "      <th>key_fangraphs</th>\n",
       "      <th>mlb_played_first</th>\n",
       "      <th>mlb_played_last</th>\n",
       "    </tr>\n",
       "  </thead>\n",
       "  <tbody>\n",
       "    <tr>\n",
       "      <th>0</th>\n",
       "      <td>degrom</td>\n",
       "      <td>jacob</td>\n",
       "      <td>594798</td>\n",
       "      <td>degrj001</td>\n",
       "      <td>degroja01</td>\n",
       "      <td>10954</td>\n",
       "      <td>2014.0</td>\n",
       "      <td>2020.0</td>\n",
       "    </tr>\n",
       "  </tbody>\n",
       "</table>\n",
       "</div>"
      ],
      "text/plain": [
       "  name_last name_first  key_mlbam key_retro  key_bbref  key_fangraphs  \\\n",
       "0    degrom      jacob     594798  degrj001  degroja01          10954   \n",
       "\n",
       "   mlb_played_first  mlb_played_last  \n",
       "0            2014.0           2020.0  "
      ]
     },
     "execution_count": 30,
     "metadata": {},
     "output_type": "execute_result"
    }
   ],
   "source": [
    "playerid_lookup('degrom','jacob')"
   ]
  },
  {
   "cell_type": "code",
   "execution_count": 31,
   "metadata": {},
   "outputs": [
    {
     "name": "stdout",
     "output_type": "stream",
     "text": [
      "Gathering Player Data\n"
     ]
    }
   ],
   "source": [
    "jd_score = pitch_classification(594798, 'score')"
   ]
  },
  {
   "cell_type": "code",
   "execution_count": 32,
   "metadata": {},
   "outputs": [],
   "source": [
    "names.append('Jacob DeGrom')\n",
    "prec_scores.append(jd_score)\n",
    "adj_scores.append(jd_score/(1/3))"
   ]
  },
  {
   "cell_type": "code",
   "execution_count": 33,
   "metadata": {},
   "outputs": [
    {
     "name": "stdout",
     "output_type": "stream",
     "text": [
      "Gathering player lookup table. This may take a moment.\n"
     ]
    },
    {
     "data": {
      "text/html": [
       "<div>\n",
       "<style scoped>\n",
       "    .dataframe tbody tr th:only-of-type {\n",
       "        vertical-align: middle;\n",
       "    }\n",
       "\n",
       "    .dataframe tbody tr th {\n",
       "        vertical-align: top;\n",
       "    }\n",
       "\n",
       "    .dataframe thead th {\n",
       "        text-align: right;\n",
       "    }\n",
       "</style>\n",
       "<table border=\"1\" class=\"dataframe\">\n",
       "  <thead>\n",
       "    <tr style=\"text-align: right;\">\n",
       "      <th></th>\n",
       "      <th>name_last</th>\n",
       "      <th>name_first</th>\n",
       "      <th>key_mlbam</th>\n",
       "      <th>key_retro</th>\n",
       "      <th>key_bbref</th>\n",
       "      <th>key_fangraphs</th>\n",
       "      <th>mlb_played_first</th>\n",
       "      <th>mlb_played_last</th>\n",
       "    </tr>\n",
       "  </thead>\n",
       "  <tbody>\n",
       "    <tr>\n",
       "      <th>0</th>\n",
       "      <td>verlander</td>\n",
       "      <td>justin</td>\n",
       "      <td>434378</td>\n",
       "      <td>verlj001</td>\n",
       "      <td>verlaju01</td>\n",
       "      <td>8700</td>\n",
       "      <td>2005.0</td>\n",
       "      <td>2020.0</td>\n",
       "    </tr>\n",
       "  </tbody>\n",
       "</table>\n",
       "</div>"
      ],
      "text/plain": [
       "   name_last name_first  key_mlbam key_retro  key_bbref  key_fangraphs  \\\n",
       "0  verlander     justin     434378  verlj001  verlaju01           8700   \n",
       "\n",
       "   mlb_played_first  mlb_played_last  \n",
       "0            2005.0           2020.0  "
      ]
     },
     "execution_count": 33,
     "metadata": {},
     "output_type": "execute_result"
    }
   ],
   "source": [
    "playerid_lookup('verlander','justin')"
   ]
  },
  {
   "cell_type": "code",
   "execution_count": 34,
   "metadata": {},
   "outputs": [
    {
     "name": "stdout",
     "output_type": "stream",
     "text": [
      "Gathering Player Data\n"
     ]
    }
   ],
   "source": [
    "jv_score = pitch_classification(434378, 'score')"
   ]
  },
  {
   "cell_type": "code",
   "execution_count": 35,
   "metadata": {},
   "outputs": [],
   "source": [
    "names.append('Justin Verlander')\n",
    "prec_scores.append(jv_score)\n",
    "adj_scores.append(jv_score/(1/3))"
   ]
  },
  {
   "cell_type": "code",
   "execution_count": 36,
   "metadata": {},
   "outputs": [
    {
     "name": "stdout",
     "output_type": "stream",
     "text": [
      "Gathering player lookup table. This may take a moment.\n"
     ]
    },
    {
     "data": {
      "text/html": [
       "<div>\n",
       "<style scoped>\n",
       "    .dataframe tbody tr th:only-of-type {\n",
       "        vertical-align: middle;\n",
       "    }\n",
       "\n",
       "    .dataframe tbody tr th {\n",
       "        vertical-align: top;\n",
       "    }\n",
       "\n",
       "    .dataframe thead th {\n",
       "        text-align: right;\n",
       "    }\n",
       "</style>\n",
       "<table border=\"1\" class=\"dataframe\">\n",
       "  <thead>\n",
       "    <tr style=\"text-align: right;\">\n",
       "      <th></th>\n",
       "      <th>name_last</th>\n",
       "      <th>name_first</th>\n",
       "      <th>key_mlbam</th>\n",
       "      <th>key_retro</th>\n",
       "      <th>key_bbref</th>\n",
       "      <th>key_fangraphs</th>\n",
       "      <th>mlb_played_first</th>\n",
       "      <th>mlb_played_last</th>\n",
       "    </tr>\n",
       "  </thead>\n",
       "  <tbody>\n",
       "    <tr>\n",
       "      <th>0</th>\n",
       "      <td>hendricks</td>\n",
       "      <td>kyle</td>\n",
       "      <td>-1</td>\n",
       "      <td>NaN</td>\n",
       "      <td>NaN</td>\n",
       "      <td>-1</td>\n",
       "      <td>NaN</td>\n",
       "      <td>NaN</td>\n",
       "    </tr>\n",
       "    <tr>\n",
       "      <th>1</th>\n",
       "      <td>hendricks</td>\n",
       "      <td>kyle</td>\n",
       "      <td>543294</td>\n",
       "      <td>hendk001</td>\n",
       "      <td>hendrky01</td>\n",
       "      <td>12049</td>\n",
       "      <td>2014.0</td>\n",
       "      <td>2020.0</td>\n",
       "    </tr>\n",
       "  </tbody>\n",
       "</table>\n",
       "</div>"
      ],
      "text/plain": [
       "   name_last name_first  key_mlbam key_retro  key_bbref  key_fangraphs  \\\n",
       "0  hendricks       kyle         -1       NaN        NaN             -1   \n",
       "1  hendricks       kyle     543294  hendk001  hendrky01          12049   \n",
       "\n",
       "   mlb_played_first  mlb_played_last  \n",
       "0               NaN              NaN  \n",
       "1            2014.0           2020.0  "
      ]
     },
     "execution_count": 36,
     "metadata": {},
     "output_type": "execute_result"
    }
   ],
   "source": [
    "playerid_lookup('hendricks','kyle')"
   ]
  },
  {
   "cell_type": "code",
   "execution_count": 37,
   "metadata": {},
   "outputs": [
    {
     "name": "stdout",
     "output_type": "stream",
     "text": [
      "Gathering Player Data\n"
     ]
    }
   ],
   "source": [
    "kh_score = pitch_classification(543294, 'score')"
   ]
  },
  {
   "cell_type": "code",
   "execution_count": 38,
   "metadata": {},
   "outputs": [],
   "source": [
    "names.append('Kyle Hendricks')\n",
    "prec_scores.append(kh_score)\n",
    "adj_scores.append(kh_score/0.25)"
   ]
  },
  {
   "cell_type": "code",
   "execution_count": 39,
   "metadata": {},
   "outputs": [
    {
     "name": "stdout",
     "output_type": "stream",
     "text": [
      "Gathering player lookup table. This may take a moment.\n"
     ]
    },
    {
     "data": {
      "text/html": [
       "<div>\n",
       "<style scoped>\n",
       "    .dataframe tbody tr th:only-of-type {\n",
       "        vertical-align: middle;\n",
       "    }\n",
       "\n",
       "    .dataframe tbody tr th {\n",
       "        vertical-align: top;\n",
       "    }\n",
       "\n",
       "    .dataframe thead th {\n",
       "        text-align: right;\n",
       "    }\n",
       "</style>\n",
       "<table border=\"1\" class=\"dataframe\">\n",
       "  <thead>\n",
       "    <tr style=\"text-align: right;\">\n",
       "      <th></th>\n",
       "      <th>name_last</th>\n",
       "      <th>name_first</th>\n",
       "      <th>key_mlbam</th>\n",
       "      <th>key_retro</th>\n",
       "      <th>key_bbref</th>\n",
       "      <th>key_fangraphs</th>\n",
       "      <th>mlb_played_first</th>\n",
       "      <th>mlb_played_last</th>\n",
       "    </tr>\n",
       "  </thead>\n",
       "  <tbody>\n",
       "    <tr>\n",
       "      <th>0</th>\n",
       "      <td>berrios</td>\n",
       "      <td>jose</td>\n",
       "      <td>621244</td>\n",
       "      <td>berrj001</td>\n",
       "      <td>berrijo01</td>\n",
       "      <td>14168</td>\n",
       "      <td>2016.0</td>\n",
       "      <td>2020.0</td>\n",
       "    </tr>\n",
       "  </tbody>\n",
       "</table>\n",
       "</div>"
      ],
      "text/plain": [
       "  name_last name_first  key_mlbam key_retro  key_bbref  key_fangraphs  \\\n",
       "0   berrios       jose     621244  berrj001  berrijo01          14168   \n",
       "\n",
       "   mlb_played_first  mlb_played_last  \n",
       "0            2016.0           2020.0  "
      ]
     },
     "execution_count": 39,
     "metadata": {},
     "output_type": "execute_result"
    }
   ],
   "source": [
    "playerid_lookup('berrios','jose')"
   ]
  },
  {
   "cell_type": "code",
   "execution_count": 40,
   "metadata": {},
   "outputs": [
    {
     "name": "stdout",
     "output_type": "stream",
     "text": [
      "Gathering Player Data\n"
     ]
    }
   ],
   "source": [
    "jb_score = pitch_classification(621244, 'score')"
   ]
  },
  {
   "cell_type": "code",
   "execution_count": 41,
   "metadata": {},
   "outputs": [],
   "source": [
    "names.append('Jose Berrios')\n",
    "prec_scores.append(jb_score)\n",
    "adj_scores.append(jb_score/0.25)"
   ]
  },
  {
   "cell_type": "code",
   "execution_count": 42,
   "metadata": {},
   "outputs": [
    {
     "name": "stdout",
     "output_type": "stream",
     "text": [
      "Gathering player lookup table. This may take a moment.\n"
     ]
    },
    {
     "data": {
      "text/html": [
       "<div>\n",
       "<style scoped>\n",
       "    .dataframe tbody tr th:only-of-type {\n",
       "        vertical-align: middle;\n",
       "    }\n",
       "\n",
       "    .dataframe tbody tr th {\n",
       "        vertical-align: top;\n",
       "    }\n",
       "\n",
       "    .dataframe thead th {\n",
       "        text-align: right;\n",
       "    }\n",
       "</style>\n",
       "<table border=\"1\" class=\"dataframe\">\n",
       "  <thead>\n",
       "    <tr style=\"text-align: right;\">\n",
       "      <th></th>\n",
       "      <th>name_last</th>\n",
       "      <th>name_first</th>\n",
       "      <th>key_mlbam</th>\n",
       "      <th>key_retro</th>\n",
       "      <th>key_bbref</th>\n",
       "      <th>key_fangraphs</th>\n",
       "      <th>mlb_played_first</th>\n",
       "      <th>mlb_played_last</th>\n",
       "    </tr>\n",
       "  </thead>\n",
       "  <tbody>\n",
       "    <tr>\n",
       "      <th>0</th>\n",
       "      <td>odorizzi</td>\n",
       "      <td>jake</td>\n",
       "      <td>543606</td>\n",
       "      <td>odorj001</td>\n",
       "      <td>odorija01</td>\n",
       "      <td>6397</td>\n",
       "      <td>2012.0</td>\n",
       "      <td>2019.0</td>\n",
       "    </tr>\n",
       "  </tbody>\n",
       "</table>\n",
       "</div>"
      ],
      "text/plain": [
       "  name_last name_first  key_mlbam key_retro  key_bbref  key_fangraphs  \\\n",
       "0  odorizzi       jake     543606  odorj001  odorija01           6397   \n",
       "\n",
       "   mlb_played_first  mlb_played_last  \n",
       "0            2012.0           2019.0  "
      ]
     },
     "execution_count": 42,
     "metadata": {},
     "output_type": "execute_result"
    }
   ],
   "source": [
    "playerid_lookup('odorizzi','jake')"
   ]
  },
  {
   "cell_type": "code",
   "execution_count": 43,
   "metadata": {},
   "outputs": [
    {
     "name": "stdout",
     "output_type": "stream",
     "text": [
      "Gathering Player Data\n"
     ]
    }
   ],
   "source": [
    "jo_score = pitch_classification(543606, 'score')"
   ]
  },
  {
   "cell_type": "code",
   "execution_count": 44,
   "metadata": {},
   "outputs": [],
   "source": [
    "names.append('Jake Odorizzi')\n",
    "prec_scores.append(jo_score)\n",
    "adj_scores.append(jo_score/(1/3))"
   ]
  },
  {
   "cell_type": "code",
   "execution_count": 45,
   "metadata": {},
   "outputs": [
    {
     "name": "stdout",
     "output_type": "stream",
     "text": [
      "Gathering player lookup table. This may take a moment.\n"
     ]
    },
    {
     "data": {
      "text/html": [
       "<div>\n",
       "<style scoped>\n",
       "    .dataframe tbody tr th:only-of-type {\n",
       "        vertical-align: middle;\n",
       "    }\n",
       "\n",
       "    .dataframe tbody tr th {\n",
       "        vertical-align: top;\n",
       "    }\n",
       "\n",
       "    .dataframe thead th {\n",
       "        text-align: right;\n",
       "    }\n",
       "</style>\n",
       "<table border=\"1\" class=\"dataframe\">\n",
       "  <thead>\n",
       "    <tr style=\"text-align: right;\">\n",
       "      <th></th>\n",
       "      <th>name_last</th>\n",
       "      <th>name_first</th>\n",
       "      <th>key_mlbam</th>\n",
       "      <th>key_retro</th>\n",
       "      <th>key_bbref</th>\n",
       "      <th>key_fangraphs</th>\n",
       "      <th>mlb_played_first</th>\n",
       "      <th>mlb_played_last</th>\n",
       "    </tr>\n",
       "  </thead>\n",
       "  <tbody>\n",
       "    <tr>\n",
       "      <th>0</th>\n",
       "      <td>kershaw</td>\n",
       "      <td>clayton</td>\n",
       "      <td>477132</td>\n",
       "      <td>kersc001</td>\n",
       "      <td>kershcl01</td>\n",
       "      <td>2036</td>\n",
       "      <td>2008.0</td>\n",
       "      <td>2019.0</td>\n",
       "    </tr>\n",
       "  </tbody>\n",
       "</table>\n",
       "</div>"
      ],
      "text/plain": [
       "  name_last name_first  key_mlbam key_retro  key_bbref  key_fangraphs  \\\n",
       "0   kershaw    clayton     477132  kersc001  kershcl01           2036   \n",
       "\n",
       "   mlb_played_first  mlb_played_last  \n",
       "0            2008.0           2019.0  "
      ]
     },
     "execution_count": 45,
     "metadata": {},
     "output_type": "execute_result"
    }
   ],
   "source": [
    "playerid_lookup('kershaw','clayton')"
   ]
  },
  {
   "cell_type": "code",
   "execution_count": 46,
   "metadata": {},
   "outputs": [
    {
     "name": "stdout",
     "output_type": "stream",
     "text": [
      "Gathering Player Data\n"
     ]
    }
   ],
   "source": [
    "ck_score = pitch_classification(477132, 'score')"
   ]
  },
  {
   "cell_type": "code",
   "execution_count": 47,
   "metadata": {},
   "outputs": [],
   "source": [
    "names.append('Clayton Kershaw')\n",
    "prec_scores.append(ck_score)\n",
    "adj_scores.append(ck_score/(1/3))"
   ]
  },
  {
   "cell_type": "code",
   "execution_count": 48,
   "metadata": {},
   "outputs": [
    {
     "name": "stdout",
     "output_type": "stream",
     "text": [
      "Gathering player lookup table. This may take a moment.\n"
     ]
    },
    {
     "data": {
      "text/html": [
       "<div>\n",
       "<style scoped>\n",
       "    .dataframe tbody tr th:only-of-type {\n",
       "        vertical-align: middle;\n",
       "    }\n",
       "\n",
       "    .dataframe tbody tr th {\n",
       "        vertical-align: top;\n",
       "    }\n",
       "\n",
       "    .dataframe thead th {\n",
       "        text-align: right;\n",
       "    }\n",
       "</style>\n",
       "<table border=\"1\" class=\"dataframe\">\n",
       "  <thead>\n",
       "    <tr style=\"text-align: right;\">\n",
       "      <th></th>\n",
       "      <th>name_last</th>\n",
       "      <th>name_first</th>\n",
       "      <th>key_mlbam</th>\n",
       "      <th>key_retro</th>\n",
       "      <th>key_bbref</th>\n",
       "      <th>key_fangraphs</th>\n",
       "      <th>mlb_played_first</th>\n",
       "      <th>mlb_played_last</th>\n",
       "    </tr>\n",
       "  </thead>\n",
       "  <tbody>\n",
       "    <tr>\n",
       "      <th>0</th>\n",
       "      <td>paxton</td>\n",
       "      <td>james</td>\n",
       "      <td>572020</td>\n",
       "      <td>paxtj001</td>\n",
       "      <td>paxtoja01</td>\n",
       "      <td>11828</td>\n",
       "      <td>2013.0</td>\n",
       "      <td>2020.0</td>\n",
       "    </tr>\n",
       "  </tbody>\n",
       "</table>\n",
       "</div>"
      ],
      "text/plain": [
       "  name_last name_first  key_mlbam key_retro  key_bbref  key_fangraphs  \\\n",
       "0    paxton      james     572020  paxtj001  paxtoja01          11828   \n",
       "\n",
       "   mlb_played_first  mlb_played_last  \n",
       "0            2013.0           2020.0  "
      ]
     },
     "execution_count": 48,
     "metadata": {},
     "output_type": "execute_result"
    }
   ],
   "source": [
    "playerid_lookup('paxton','james')"
   ]
  },
  {
   "cell_type": "code",
   "execution_count": 49,
   "metadata": {},
   "outputs": [
    {
     "name": "stdout",
     "output_type": "stream",
     "text": [
      "Gathering Player Data\n"
     ]
    }
   ],
   "source": [
    "jp_score = pitch_classification(572020,'score')"
   ]
  },
  {
   "cell_type": "code",
   "execution_count": 50,
   "metadata": {},
   "outputs": [],
   "source": [
    "names.append('James Paxton')\n",
    "prec_scores.append(jp_score)\n",
    "adj_scores.append(jp_score/(1/3))"
   ]
  },
  {
   "cell_type": "code",
   "execution_count": 51,
   "metadata": {},
   "outputs": [
    {
     "name": "stdout",
     "output_type": "stream",
     "text": [
      "Gathering player lookup table. This may take a moment.\n"
     ]
    },
    {
     "data": {
      "text/html": [
       "<div>\n",
       "<style scoped>\n",
       "    .dataframe tbody tr th:only-of-type {\n",
       "        vertical-align: middle;\n",
       "    }\n",
       "\n",
       "    .dataframe tbody tr th {\n",
       "        vertical-align: top;\n",
       "    }\n",
       "\n",
       "    .dataframe thead th {\n",
       "        text-align: right;\n",
       "    }\n",
       "</style>\n",
       "<table border=\"1\" class=\"dataframe\">\n",
       "  <thead>\n",
       "    <tr style=\"text-align: right;\">\n",
       "      <th></th>\n",
       "      <th>name_last</th>\n",
       "      <th>name_first</th>\n",
       "      <th>key_mlbam</th>\n",
       "      <th>key_retro</th>\n",
       "      <th>key_bbref</th>\n",
       "      <th>key_fangraphs</th>\n",
       "      <th>mlb_played_first</th>\n",
       "      <th>mlb_played_last</th>\n",
       "    </tr>\n",
       "  </thead>\n",
       "  <tbody>\n",
       "    <tr>\n",
       "      <th>0</th>\n",
       "      <td>snell</td>\n",
       "      <td>blake</td>\n",
       "      <td>605483</td>\n",
       "      <td>snelb001</td>\n",
       "      <td>snellbl01</td>\n",
       "      <td>13543</td>\n",
       "      <td>2016.0</td>\n",
       "      <td>2020.0</td>\n",
       "    </tr>\n",
       "  </tbody>\n",
       "</table>\n",
       "</div>"
      ],
      "text/plain": [
       "  name_last name_first  key_mlbam key_retro  key_bbref  key_fangraphs  \\\n",
       "0     snell      blake     605483  snelb001  snellbl01          13543   \n",
       "\n",
       "   mlb_played_first  mlb_played_last  \n",
       "0            2016.0           2020.0  "
      ]
     },
     "execution_count": 51,
     "metadata": {},
     "output_type": "execute_result"
    }
   ],
   "source": [
    "playerid_lookup('snell','blake')"
   ]
  },
  {
   "cell_type": "code",
   "execution_count": 52,
   "metadata": {},
   "outputs": [
    {
     "name": "stdout",
     "output_type": "stream",
     "text": [
      "Gathering Player Data\n"
     ]
    }
   ],
   "source": [
    "bs_score = pitch_classification(605483,'score')"
   ]
  },
  {
   "cell_type": "code",
   "execution_count": 53,
   "metadata": {},
   "outputs": [],
   "source": [
    "names.append('Blake Snell')\n",
    "prec_scores.append(bs_score)\n",
    "adj_scores.append(bs_score/(1/3))"
   ]
  },
  {
   "cell_type": "code",
   "execution_count": 54,
   "metadata": {},
   "outputs": [
    {
     "name": "stdout",
     "output_type": "stream",
     "text": [
      "Gathering player lookup table. This may take a moment.\n"
     ]
    },
    {
     "data": {
      "text/html": [
       "<div>\n",
       "<style scoped>\n",
       "    .dataframe tbody tr th:only-of-type {\n",
       "        vertical-align: middle;\n",
       "    }\n",
       "\n",
       "    .dataframe tbody tr th {\n",
       "        vertical-align: top;\n",
       "    }\n",
       "\n",
       "    .dataframe thead th {\n",
       "        text-align: right;\n",
       "    }\n",
       "</style>\n",
       "<table border=\"1\" class=\"dataframe\">\n",
       "  <thead>\n",
       "    <tr style=\"text-align: right;\">\n",
       "      <th></th>\n",
       "      <th>name_last</th>\n",
       "      <th>name_first</th>\n",
       "      <th>key_mlbam</th>\n",
       "      <th>key_retro</th>\n",
       "      <th>key_bbref</th>\n",
       "      <th>key_fangraphs</th>\n",
       "      <th>mlb_played_first</th>\n",
       "      <th>mlb_played_last</th>\n",
       "    </tr>\n",
       "  </thead>\n",
       "  <tbody>\n",
       "    <tr>\n",
       "      <th>0</th>\n",
       "      <td>nola</td>\n",
       "      <td>aaron</td>\n",
       "      <td>605400</td>\n",
       "      <td>nolaa001</td>\n",
       "      <td>nolaaa01</td>\n",
       "      <td>16149</td>\n",
       "      <td>2015.0</td>\n",
       "      <td>2020.0</td>\n",
       "    </tr>\n",
       "  </tbody>\n",
       "</table>\n",
       "</div>"
      ],
      "text/plain": [
       "  name_last name_first  key_mlbam key_retro key_bbref  key_fangraphs  \\\n",
       "0      nola      aaron     605400  nolaa001  nolaaa01          16149   \n",
       "\n",
       "   mlb_played_first  mlb_played_last  \n",
       "0            2015.0           2020.0  "
      ]
     },
     "execution_count": 54,
     "metadata": {},
     "output_type": "execute_result"
    }
   ],
   "source": [
    "playerid_lookup('nola','aaron')"
   ]
  },
  {
   "cell_type": "code",
   "execution_count": 55,
   "metadata": {},
   "outputs": [
    {
     "name": "stdout",
     "output_type": "stream",
     "text": [
      "Gathering Player Data\n"
     ]
    }
   ],
   "source": [
    "an_score = pitch_classification(605400,'score')"
   ]
  },
  {
   "cell_type": "code",
   "execution_count": 56,
   "metadata": {},
   "outputs": [],
   "source": [
    "names.append('Aaron Nola')\n",
    "prec_scores.append(an_score)\n",
    "adj_scores.append(an_score/0.25)"
   ]
  },
  {
   "cell_type": "code",
   "execution_count": 57,
   "metadata": {},
   "outputs": [
    {
     "name": "stdout",
     "output_type": "stream",
     "text": [
      "Gathering player lookup table. This may take a moment.\n"
     ]
    },
    {
     "data": {
      "text/html": [
       "<div>\n",
       "<style scoped>\n",
       "    .dataframe tbody tr th:only-of-type {\n",
       "        vertical-align: middle;\n",
       "    }\n",
       "\n",
       "    .dataframe tbody tr th {\n",
       "        vertical-align: top;\n",
       "    }\n",
       "\n",
       "    .dataframe thead th {\n",
       "        text-align: right;\n",
       "    }\n",
       "</style>\n",
       "<table border=\"1\" class=\"dataframe\">\n",
       "  <thead>\n",
       "    <tr style=\"text-align: right;\">\n",
       "      <th></th>\n",
       "      <th>name_last</th>\n",
       "      <th>name_first</th>\n",
       "      <th>key_mlbam</th>\n",
       "      <th>key_retro</th>\n",
       "      <th>key_bbref</th>\n",
       "      <th>key_fangraphs</th>\n",
       "      <th>mlb_played_first</th>\n",
       "      <th>mlb_played_last</th>\n",
       "    </tr>\n",
       "  </thead>\n",
       "  <tbody>\n",
       "    <tr>\n",
       "      <th>0</th>\n",
       "      <td>flaherty</td>\n",
       "      <td>jack</td>\n",
       "      <td>-1</td>\n",
       "      <td>NaN</td>\n",
       "      <td>NaN</td>\n",
       "      <td>-1</td>\n",
       "      <td>NaN</td>\n",
       "      <td>NaN</td>\n",
       "    </tr>\n",
       "    <tr>\n",
       "      <th>1</th>\n",
       "      <td>flaherty</td>\n",
       "      <td>jack</td>\n",
       "      <td>-1</td>\n",
       "      <td>NaN</td>\n",
       "      <td>NaN</td>\n",
       "      <td>-1</td>\n",
       "      <td>NaN</td>\n",
       "      <td>NaN</td>\n",
       "    </tr>\n",
       "    <tr>\n",
       "      <th>2</th>\n",
       "      <td>flaherty</td>\n",
       "      <td>jack</td>\n",
       "      <td>656427</td>\n",
       "      <td>flahj002</td>\n",
       "      <td>flaheja01</td>\n",
       "      <td>17479</td>\n",
       "      <td>2017.0</td>\n",
       "      <td>2020.0</td>\n",
       "    </tr>\n",
       "  </tbody>\n",
       "</table>\n",
       "</div>"
      ],
      "text/plain": [
       "  name_last name_first  key_mlbam key_retro  key_bbref  key_fangraphs  \\\n",
       "0  flaherty       jack         -1       NaN        NaN             -1   \n",
       "1  flaherty       jack         -1       NaN        NaN             -1   \n",
       "2  flaherty       jack     656427  flahj002  flaheja01          17479   \n",
       "\n",
       "   mlb_played_first  mlb_played_last  \n",
       "0               NaN              NaN  \n",
       "1               NaN              NaN  \n",
       "2            2017.0           2020.0  "
      ]
     },
     "execution_count": 57,
     "metadata": {},
     "output_type": "execute_result"
    }
   ],
   "source": [
    "playerid_lookup('flaherty','jack')"
   ]
  },
  {
   "cell_type": "code",
   "execution_count": 58,
   "metadata": {},
   "outputs": [
    {
     "name": "stdout",
     "output_type": "stream",
     "text": [
      "Gathering Player Data\n"
     ]
    }
   ],
   "source": [
    "jf_score = pitch_classification(656427, 'score')"
   ]
  },
  {
   "cell_type": "code",
   "execution_count": 59,
   "metadata": {},
   "outputs": [],
   "source": [
    "names.append('Jack Flaherty')\n",
    "prec_scores.append(jf_score)\n",
    "adj_scores.append(jf_score/0.25)"
   ]
  },
  {
   "cell_type": "code",
   "execution_count": 60,
   "metadata": {},
   "outputs": [
    {
     "name": "stdout",
     "output_type": "stream",
     "text": [
      "Gathering player lookup table. This may take a moment.\n"
     ]
    },
    {
     "data": {
      "text/html": [
       "<div>\n",
       "<style scoped>\n",
       "    .dataframe tbody tr th:only-of-type {\n",
       "        vertical-align: middle;\n",
       "    }\n",
       "\n",
       "    .dataframe tbody tr th {\n",
       "        vertical-align: top;\n",
       "    }\n",
       "\n",
       "    .dataframe thead th {\n",
       "        text-align: right;\n",
       "    }\n",
       "</style>\n",
       "<table border=\"1\" class=\"dataframe\">\n",
       "  <thead>\n",
       "    <tr style=\"text-align: right;\">\n",
       "      <th></th>\n",
       "      <th>name_last</th>\n",
       "      <th>name_first</th>\n",
       "      <th>key_mlbam</th>\n",
       "      <th>key_retro</th>\n",
       "      <th>key_bbref</th>\n",
       "      <th>key_fangraphs</th>\n",
       "      <th>mlb_played_first</th>\n",
       "      <th>mlb_played_last</th>\n",
       "    </tr>\n",
       "  </thead>\n",
       "  <tbody>\n",
       "    <tr>\n",
       "      <th>0</th>\n",
       "      <td>buehler</td>\n",
       "      <td>walker</td>\n",
       "      <td>621111</td>\n",
       "      <td>buehw001</td>\n",
       "      <td>buehlwa01</td>\n",
       "      <td>19374</td>\n",
       "      <td>2017.0</td>\n",
       "      <td>2020.0</td>\n",
       "    </tr>\n",
       "  </tbody>\n",
       "</table>\n",
       "</div>"
      ],
      "text/plain": [
       "  name_last name_first  key_mlbam key_retro  key_bbref  key_fangraphs  \\\n",
       "0   buehler     walker     621111  buehw001  buehlwa01          19374   \n",
       "\n",
       "   mlb_played_first  mlb_played_last  \n",
       "0            2017.0           2020.0  "
      ]
     },
     "execution_count": 60,
     "metadata": {},
     "output_type": "execute_result"
    }
   ],
   "source": [
    "playerid_lookup('buehler','walker')"
   ]
  },
  {
   "cell_type": "code",
   "execution_count": 61,
   "metadata": {},
   "outputs": [
    {
     "name": "stdout",
     "output_type": "stream",
     "text": [
      "Gathering Player Data\n"
     ]
    }
   ],
   "source": [
    "wb_score = pitch_classification(621111,'score')"
   ]
  },
  {
   "cell_type": "code",
   "execution_count": 62,
   "metadata": {},
   "outputs": [],
   "source": [
    "names.append('Walker Buehler')\n",
    "prec_scores.append(wb_score)\n",
    "adj_scores.append(wb_score/0.25)"
   ]
  },
  {
   "cell_type": "code",
   "execution_count": 63,
   "metadata": {},
   "outputs": [
    {
     "data": {
      "text/plain": [
       "['Max Scherzer',\n",
       " 'Gerrit Cole',\n",
       " 'Tyler Glasnow',\n",
       " 'Madison Bumgarner',\n",
       " 'Chris Paddack',\n",
       " 'Jacob DeGrom',\n",
       " 'Justin Verlander',\n",
       " 'Kyle Hendricks',\n",
       " 'Jose Berrios',\n",
       " 'Jake Odorizzi',\n",
       " 'Clayton Kershaw',\n",
       " 'James Paxton',\n",
       " 'Blake Snell',\n",
       " 'Aaron Nola',\n",
       " 'Jack Flaherty',\n",
       " 'Walker Buehler']"
      ]
     },
     "execution_count": 63,
     "metadata": {},
     "output_type": "execute_result"
    }
   ],
   "source": [
    "names"
   ]
  },
  {
   "cell_type": "code",
   "execution_count": 64,
   "metadata": {},
   "outputs": [],
   "source": [
    "data = {'Name':names, 'Precision Score':prec_scores, 'Adjusted Score':adj_scores}"
   ]
  },
  {
   "cell_type": "code",
   "execution_count": 66,
   "metadata": {},
   "outputs": [],
   "source": [
    "import pandas as pd\n",
    "df = pd.DataFrame(data)"
   ]
  },
  {
   "cell_type": "code",
   "execution_count": 67,
   "metadata": {},
   "outputs": [],
   "source": [
    "final_df = df.sort_values('Adjusted Score', ascending = False)"
   ]
  },
  {
   "cell_type": "code",
   "execution_count": 68,
   "metadata": {},
   "outputs": [],
   "source": [
    "final_df = final_df.reset_index(drop=True)"
   ]
  },
  {
   "cell_type": "code",
   "execution_count": 69,
   "metadata": {},
   "outputs": [
    {
     "data": {
      "text/html": [
       "<div>\n",
       "<style scoped>\n",
       "    .dataframe tbody tr th:only-of-type {\n",
       "        vertical-align: middle;\n",
       "    }\n",
       "\n",
       "    .dataframe tbody tr th {\n",
       "        vertical-align: top;\n",
       "    }\n",
       "\n",
       "    .dataframe thead th {\n",
       "        text-align: right;\n",
       "    }\n",
       "</style>\n",
       "<table border=\"1\" class=\"dataframe\">\n",
       "  <thead>\n",
       "    <tr style=\"text-align: right;\">\n",
       "      <th></th>\n",
       "      <th>Name</th>\n",
       "      <th>Precision Score</th>\n",
       "      <th>Adjusted Score</th>\n",
       "    </tr>\n",
       "  </thead>\n",
       "  <tbody>\n",
       "    <tr>\n",
       "      <th>0</th>\n",
       "      <td>Blake Snell</td>\n",
       "      <td>0.730963</td>\n",
       "      <td>2.192889</td>\n",
       "    </tr>\n",
       "    <tr>\n",
       "      <th>1</th>\n",
       "      <td>Jose Berrios</td>\n",
       "      <td>0.541334</td>\n",
       "      <td>2.165335</td>\n",
       "    </tr>\n",
       "    <tr>\n",
       "      <th>2</th>\n",
       "      <td>Aaron Nola</td>\n",
       "      <td>0.526152</td>\n",
       "      <td>2.104608</td>\n",
       "    </tr>\n",
       "    <tr>\n",
       "      <th>3</th>\n",
       "      <td>Clayton Kershaw</td>\n",
       "      <td>0.694630</td>\n",
       "      <td>2.083889</td>\n",
       "    </tr>\n",
       "    <tr>\n",
       "      <th>4</th>\n",
       "      <td>Chris Paddack</td>\n",
       "      <td>0.623755</td>\n",
       "      <td>1.871265</td>\n",
       "    </tr>\n",
       "    <tr>\n",
       "      <th>5</th>\n",
       "      <td>Walker Buehler</td>\n",
       "      <td>0.446816</td>\n",
       "      <td>1.787264</td>\n",
       "    </tr>\n",
       "    <tr>\n",
       "      <th>6</th>\n",
       "      <td>Kyle Hendricks</td>\n",
       "      <td>0.430539</td>\n",
       "      <td>1.722157</td>\n",
       "    </tr>\n",
       "    <tr>\n",
       "      <th>7</th>\n",
       "      <td>Jake Odorizzi</td>\n",
       "      <td>0.552780</td>\n",
       "      <td>1.658339</td>\n",
       "    </tr>\n",
       "    <tr>\n",
       "      <th>8</th>\n",
       "      <td>Justin Verlander</td>\n",
       "      <td>0.538281</td>\n",
       "      <td>1.614844</td>\n",
       "    </tr>\n",
       "    <tr>\n",
       "      <th>9</th>\n",
       "      <td>Max Scherzer</td>\n",
       "      <td>0.396749</td>\n",
       "      <td>1.586996</td>\n",
       "    </tr>\n",
       "    <tr>\n",
       "      <th>10</th>\n",
       "      <td>James Paxton</td>\n",
       "      <td>0.512171</td>\n",
       "      <td>1.536512</td>\n",
       "    </tr>\n",
       "    <tr>\n",
       "      <th>11</th>\n",
       "      <td>Jack Flaherty</td>\n",
       "      <td>0.361672</td>\n",
       "      <td>1.446689</td>\n",
       "    </tr>\n",
       "    <tr>\n",
       "      <th>12</th>\n",
       "      <td>Tyler Glasnow</td>\n",
       "      <td>0.709492</td>\n",
       "      <td>1.418984</td>\n",
       "    </tr>\n",
       "    <tr>\n",
       "      <th>13</th>\n",
       "      <td>Madison Bumgarner</td>\n",
       "      <td>0.469768</td>\n",
       "      <td>1.409304</td>\n",
       "    </tr>\n",
       "    <tr>\n",
       "      <th>14</th>\n",
       "      <td>Jacob DeGrom</td>\n",
       "      <td>0.453365</td>\n",
       "      <td>1.360095</td>\n",
       "    </tr>\n",
       "    <tr>\n",
       "      <th>15</th>\n",
       "      <td>Gerrit Cole</td>\n",
       "      <td>0.361536</td>\n",
       "      <td>1.084608</td>\n",
       "    </tr>\n",
       "  </tbody>\n",
       "</table>\n",
       "</div>"
      ],
      "text/plain": [
       "                 Name  Precision Score  Adjusted Score\n",
       "0         Blake Snell         0.730963        2.192889\n",
       "1        Jose Berrios         0.541334        2.165335\n",
       "2          Aaron Nola         0.526152        2.104608\n",
       "3     Clayton Kershaw         0.694630        2.083889\n",
       "4       Chris Paddack         0.623755        1.871265\n",
       "5      Walker Buehler         0.446816        1.787264\n",
       "6      Kyle Hendricks         0.430539        1.722157\n",
       "7       Jake Odorizzi         0.552780        1.658339\n",
       "8    Justin Verlander         0.538281        1.614844\n",
       "9        Max Scherzer         0.396749        1.586996\n",
       "10       James Paxton         0.512171        1.536512\n",
       "11      Jack Flaherty         0.361672        1.446689\n",
       "12      Tyler Glasnow         0.709492        1.418984\n",
       "13  Madison Bumgarner         0.469768        1.409304\n",
       "14       Jacob DeGrom         0.453365        1.360095\n",
       "15        Gerrit Cole         0.361536        1.084608"
      ]
     },
     "execution_count": 69,
     "metadata": {},
     "output_type": "execute_result"
    }
   ],
   "source": [
    "final_df"
   ]
  },
  {
   "cell_type": "code",
   "execution_count": null,
   "metadata": {},
   "outputs": [],
   "source": []
  }
 ],
 "metadata": {
  "kernelspec": {
   "display_name": "Python 3",
   "language": "python",
   "name": "python3"
  },
  "language_info": {
   "codemirror_mode": {
    "name": "ipython",
    "version": 3
   },
   "file_extension": ".py",
   "mimetype": "text/x-python",
   "name": "python",
   "nbconvert_exporter": "python",
   "pygments_lexer": "ipython3",
   "version": "3.7.3"
  }
 },
 "nbformat": 4,
 "nbformat_minor": 2
}
